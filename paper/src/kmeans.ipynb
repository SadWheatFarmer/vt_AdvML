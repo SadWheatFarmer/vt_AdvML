{
 "cells": [
  {
   "cell_type": "code",
   "execution_count": 7,
   "metadata": {
    "collapsed": true
   },
   "outputs": [],
   "source": [
    "import sklearn\n",
    "import numpy as np\n",
    "import matplotlib.pyplot as plt\n",
    "%matplotlib inline\n",
    "from mpl_toolkits.mplot3d import Axes3D\n",
    "import seaborn\n",
    "from sklearn import datasets\n",
    "import lib.modelCommon as common\n",
    "import pandas as pd"
   ]
  },
  {
   "cell_type": "code",
   "execution_count": 8,
   "outputs": [],
   "source": [
    "def modifyDataForModel(df: pd.DataFrame,\n",
    "                       INCLUDE_POS_FLAG, THREE_POS_FLAG) -> pd.DataFrame:\n",
    "\n",
    "    # Remove Features\n",
    "    REMOVE_FEATURES = ['ID', 'Player', 'Tm', 'Pos']\n",
    "\n",
    "    # Also delete position features if they should not be used in modeling.\n",
    "    if ~INCLUDE_POS_FLAG:\n",
    "        if THREE_POS_FLAG:\n",
    "            REMOVE_FEATURES.extend([\"Pos_G\", \"Pos_F\", \"Pos_C\"])\n",
    "        else:\n",
    "            REMOVE_FEATURES.extend([\"Pos_PG\", 'Pos_SG',\n",
    "                                    \"Pos_SF\", \"Pos_PF\",\n",
    "                                    \"Pos_C\"])\n",
    "\n",
    "    df = df.drop(columns=REMOVE_FEATURES)\n",
    "\n",
    "    return df"
   ],
   "metadata": {
    "collapsed": false
   }
  },
  {
   "cell_type": "code",
   "execution_count": 10,
   "outputs": [
    {
     "ename": "NameError",
     "evalue": "name 'df' is not defined",
     "output_type": "error",
     "traceback": [
      "\u001B[1;31m---------------------------------------------------------------------------\u001B[0m",
      "\u001B[1;31mNameError\u001B[0m                                 Traceback (most recent call last)",
      "Cell \u001B[1;32mIn [10], line 1\u001B[0m\n\u001B[1;32m----> 1\u001B[0m df_data \u001B[38;5;241m=\u001B[39m modifyDataForModel(\u001B[43mdf\u001B[49m, INCLUDE_POS, THREE_POS_FLAG)\n\u001B[0;32m      2\u001B[0m x \u001B[38;5;241m=\u001B[39m common\u001B[38;5;241m.\u001B[39mnormalizeData(df_data\u001B[38;5;241m.\u001B[39mto_numpy())\n",
      "\u001B[1;31mNameError\u001B[0m: name 'df' is not defined"
     ]
    }
   ],
   "source": [
    "df_data = modifyDataForModel(df, INCLUDE_POS, THREE_POS_FLAG)\n",
    "x = common.normalizeData(df_data.to_numpy())"
   ],
   "metadata": {
    "collapsed": false
   }
  },
  {
   "cell_type": "code",
   "execution_count": null,
   "outputs": [],
   "source": [],
   "metadata": {
    "collapsed": false
   }
  },
  {
   "cell_type": "code",
   "execution_count": null,
   "outputs": [],
   "source": [],
   "metadata": {
    "collapsed": false
   }
  },
  {
   "cell_type": "code",
   "execution_count": null,
   "outputs": [],
   "source": [],
   "metadata": {
    "collapsed": false
   }
  }
 ],
 "metadata": {
  "kernelspec": {
   "display_name": "Python 3",
   "language": "python",
   "name": "python3"
  },
  "language_info": {
   "codemirror_mode": {
    "name": "ipython",
    "version": 2
   },
   "file_extension": ".py",
   "mimetype": "text/x-python",
   "name": "python",
   "nbconvert_exporter": "python",
   "pygments_lexer": "ipython2",
   "version": "2.7.6"
  }
 },
 "nbformat": 4,
 "nbformat_minor": 0
}
